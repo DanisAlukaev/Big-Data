{
 "cells": [
  {
   "cell_type": "code",
   "execution_count": 1,
   "id": "dfaee72c-4e6e-455b-a33e-98c29ca18007",
   "metadata": {},
   "outputs": [
    {
     "data": {
      "text/plain": [
       "Intitializing Scala interpreter ..."
      ]
     },
     "metadata": {},
     "output_type": "display_data"
    },
    {
     "data": {
      "text/plain": [
       "Spark Web UI available at http://0d2a482b57fe:4040\n",
       "SparkContext available as 'sc' (version = 3.2.0, master = local[*], app id = local-1638321262091)\n",
       "SparkSession available as 'spark'\n"
      ]
     },
     "metadata": {},
     "output_type": "display_data"
    },
    {
     "data": {
      "text/plain": [
       "import org.apache.spark.graphx._\n"
      ]
     },
     "execution_count": 1,
     "metadata": {},
     "output_type": "execute_result"
    }
   ],
   "source": [
    "import org.apache.spark.graphx._"
   ]
  },
  {
   "cell_type": "markdown",
   "id": "40ca096f-9abe-4883-aafc-e97f2fead88c",
   "metadata": {},
   "source": [
    "## Current topology"
   ]
  },
  {
   "cell_type": "code",
   "execution_count": 2,
   "id": "acfefb6b-5df9-4e5e-be3f-d3bd926dd8be",
   "metadata": {},
   "outputs": [
    {
     "name": "stdout",
     "output_type": "stream",
     "text": [
      "(2,Bill)\n",
      "(3,Charles)\n",
      "(4,Diane)\n",
      "(5,Went to gym this morning)\n",
      "(1,Ann)\n"
     ]
    },
    {
     "data": {
      "text/plain": [
       "myVertices: org.apache.spark.rdd.RDD[(Long, String)] = ParallelCollectionRDD[0] at makeRDD at <console>:27\n",
       "myEdges: org.apache.spark.rdd.RDD[org.apache.spark.graphx.Edge[String]] = ParallelCollectionRDD[1] at makeRDD at <console>:30\n",
       "myGraph: org.apache.spark.graphx.Graph[String,String] = org.apache.spark.graphx.impl.GraphImpl@3f8388ef\n"
      ]
     },
     "execution_count": 2,
     "metadata": {},
     "output_type": "execute_result"
    }
   ],
   "source": [
    "val myVertices = sc.makeRDD(Array((1L, \"Ann\"), (2L, \"Bill\"),\n",
    " (3L, \"Charles\"), (4L, \"Diane\"), (5L, \"Went to gym this morning\")))\n",
    "\n",
    "val myEdges = sc.makeRDD(Array(Edge(1L, 2L, \"is-friends-with\"),\n",
    " Edge(2L, 3L, \"is-friends-with\"), Edge(3L, 4L, \"is-friends-with\"),\n",
    " Edge(4L, 5L, \"Likes-status\"), Edge(3L, 5L, \"Wrote-status\")))\n",
    "\n",
    "val myGraph = Graph(myVertices, myEdges)\n",
    "myGraph.vertices.foreach(println(_))"
   ]
  },
  {
   "cell_type": "code",
   "execution_count": 3,
   "id": "a57dc2c0-66ab-4b8f-a6b3-e82e7450a7d9",
   "metadata": {},
   "outputs": [
    {
     "name": "stdout",
     "output_type": "stream",
     "text": [
      "(1,0.4390416708169825)\n",
      "(4,0.9190514175420748)\n",
      "(2,0.8122270910114175)\n",
      "(5,1.7002451224528383)\n",
      "(3,1.1294346981766874)\n"
     ]
    }
   ],
   "source": [
    "myGraph.pageRank(0.001).vertices.foreach(println)"
   ]
  },
  {
   "cell_type": "markdown",
   "id": "be2832f6-028a-4612-a3b7-8a095cb7281b",
   "metadata": {},
   "source": [
    "## New topology"
   ]
  },
  {
   "cell_type": "code",
   "execution_count": 4,
   "id": "35892f47-f611-4fa7-8e0e-eec11aa8474c",
   "metadata": {},
   "outputs": [
    {
     "name": "stdout",
     "output_type": "stream",
     "text": [
      "(3,Charles)\n",
      "(4,Diane)\n",
      "(5,Went to gym this morning)\n",
      "(1,Ann)\n",
      "(2,Bill)\n"
     ]
    },
    {
     "data": {
      "text/plain": [
       "myVertices: org.apache.spark.rdd.RDD[(Long, String)] = ParallelCollectionRDD[131] at makeRDD at <console>:30\n",
       "myEdges: org.apache.spark.rdd.RDD[org.apache.spark.graphx.Edge[String]] = ParallelCollectionRDD[132] at makeRDD at <console>:33\n",
       "myGraph: org.apache.spark.graphx.Graph[String,String] = org.apache.spark.graphx.impl.GraphImpl@fac3f55\n"
      ]
     },
     "execution_count": 4,
     "metadata": {},
     "output_type": "execute_result"
    }
   ],
   "source": [
    "val myVertices = sc.makeRDD(Array((1L, \"Ann\"), (2L, \"Bill\"),\n",
    " (3L, \"Charles\"), (4L, \"Diane\"), (5L, \"Went to gym this morning\")))\n",
    "\n",
    "val myEdges = sc.makeRDD(Array(Edge(2L, 1L, \"is-friends-with\"),\n",
    " Edge(2L, 3L, \"is-friends-with\"), Edge(3L, 4L, \"is-friends-with\"),\n",
    " Edge(3L, 5L, \"Wrote-status\"), Edge(4L, 1L, \"Wrote-status\")))\n",
    "\n",
    "val myGraph = Graph(myVertices, myEdges)\n",
    "myGraph.vertices.foreach(println(_))"
   ]
  },
  {
   "cell_type": "code",
   "execution_count": 5,
   "id": "1e158d59-9a2f-4350-a173-7169c9364605",
   "metadata": {},
   "outputs": [
    {
     "name": "stdout",
     "output_type": "stream",
     "text": [
      "(3,0.8455938256815746)\n",
      "(1,1.6554538947384034)\n",
      "(4,0.9527765518315636)\n",
      "(2,0.5933991759168944)\n",
      "(5,0.9527765518315636)\n"
     ]
    }
   ],
   "source": [
    "myGraph.pageRank(0.001).vertices.foreach(println)"
   ]
  },
  {
   "cell_type": "markdown",
   "id": "7abdbdeb-d14d-4b83-aa58-a3957c7eb22b",
   "metadata": {},
   "source": [
    "## Discussion"
   ]
  },
  {
   "cell_type": "markdown",
   "id": "3f23b7e1-7f74-42c7-86da-ee0dd59e986d",
   "metadata": {},
   "source": [
    "In order make the vertex 1 most popular in the graph (by PageRank metric), there were\n",
    "- changed direction of the first edge `(1, Ann) -is-friends-with-> (2, Bill)` to `(2, Bill) -is-friends-with-> (1, Ann)`\n",
    "- removed edge `(4, Diane) -Likes-status-> (5, Went to the gym this morning)`\n",
    "- added edge `(4, Diane) -Wrote-status-> (1, Ann)`"
   ]
  }
 ],
 "metadata": {
  "kernelspec": {
   "display_name": "spylon-kernel",
   "language": "scala",
   "name": "spylon-kernel"
  },
  "language_info": {
   "codemirror_mode": "text/x-scala",
   "file_extension": ".scala",
   "help_links": [
    {
     "text": "MetaKernel Magics",
     "url": "https://metakernel.readthedocs.io/en/latest/source/README.html"
    }
   ],
   "mimetype": "text/x-scala",
   "name": "scala",
   "pygments_lexer": "scala",
   "version": "0.4.1"
  }
 },
 "nbformat": 4,
 "nbformat_minor": 5
}
